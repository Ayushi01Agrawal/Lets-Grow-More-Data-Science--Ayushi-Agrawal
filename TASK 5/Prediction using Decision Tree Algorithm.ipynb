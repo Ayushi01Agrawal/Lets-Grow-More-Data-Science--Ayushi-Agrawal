{
 "cells": [
  {
   "cell_type": "markdown",
   "id": "11fc5254",
   "metadata": {},
   "source": [
    "# LETS GROW MORE DATA SCIENCE INTERN MARCH 2023\n",
    "\n",
    "# Intermediate level task :\n",
    "\n",
    "\n",
    "## Task 5: Prediction using Decision Tree Algorithm\n",
    "\n",
    "**In this project, first I Created the Decision Tree classifier for \"Iris flower dataset\" and then visualize it graphically.**\n",
    "\n",
    "**Dataset Link:** http://archive.ics.uci.edu/ml/machine-learning-databases/iris"
   ]
  },
  {
   "cell_type": "code",
   "execution_count": null,
   "id": "c944e6b6",
   "metadata": {},
   "outputs": [],
   "source": [
    "import pandas as pd\n",
    "import matplotlib.pyplot as plt\n",
    "import seaborn as sns\n",
    "from sklearn import datasets\n",
    "from sklearn.model_selection import train_test_split\n",
    "from sklearn.tree import DecisionTreeClassifier\n",
    "from sklearn.metrics import accuracy_score\n",
    "from sklearn.tree import plot_tree\n",
    "from sklearn import tree"
   ]
  },
  {
   "cell_type": "markdown",
   "id": "7bfb80db",
   "metadata": {},
   "source": [
    "## "
   ]
  },
  {
   "cell_type": "markdown",
   "id": "afc9e8b4",
   "metadata": {},
   "source": [
    "## Loading the Dataset & Reading the Dataset\n"
   ]
  },
  {
   "cell_type": "code",
   "execution_count": null,
   "id": "2fa10b4c",
   "metadata": {},
   "outputs": [],
   "source": [
    "df=pd.read_csv(\"Iris.csv\")\n",
    "df.head(5)"
   ]
  },
  {
   "cell_type": "code",
   "execution_count": null,
   "id": "09558a97",
   "metadata": {},
   "outputs": [],
   "source": [
    "df.sample(5)"
   ]
  },
  {
   "cell_type": "code",
   "execution_count": null,
   "id": "0454725a",
   "metadata": {},
   "outputs": [],
   "source": [
    "df.shape"
   ]
  },
  {
   "cell_type": "code",
   "execution_count": null,
   "id": "abf596ff",
   "metadata": {},
   "outputs": [],
   "source": [
    "df.info()"
   ]
  },
  {
   "cell_type": "code",
   "execution_count": null,
   "id": "5f79c667",
   "metadata": {},
   "outputs": [],
   "source": [
    "df.describe()"
   ]
  },
  {
   "cell_type": "code",
   "execution_count": null,
   "id": "77b2ac52",
   "metadata": {},
   "outputs": [],
   "source": [
    "df.isnull().sum()"
   ]
  },
  {
   "cell_type": "code",
   "execution_count": null,
   "id": "4f6be3cf",
   "metadata": {},
   "outputs": [],
   "source": [
    "df['Species'].unique()"
   ]
  },
  {
   "cell_type": "code",
   "execution_count": null,
   "id": "a9a3a5de",
   "metadata": {},
   "outputs": [],
   "source": [
    "df['Species'].value_counts()"
   ]
  },
  {
   "cell_type": "markdown",
   "id": "2c81f7fd",
   "metadata": {},
   "source": [
    "## Data Visualization"
   ]
  },
  {
   "cell_type": "code",
   "execution_count": null,
   "id": "41229277",
   "metadata": {},
   "outputs": [],
   "source": [
    "sns.pairplot(df,hue='Species')"
   ]
  },
  {
   "cell_type": "code",
   "execution_count": null,
   "id": "92895dab",
   "metadata": {},
   "outputs": [],
   "source": [
    "\n",
    "#Pie plot to show the overall types of Iris classifications\n",
    "colors = ['#66b3ff','#ff9999','red']\n",
    "df['Species'].value_counts().plot(kind = 'pie',  autopct = '%1.1f%%', shadow = True,colors=colors, explode = [0.08,0.08,0.08])"
   ]
  },
  {
   "cell_type": "code",
   "execution_count": null,
   "id": "e4dda389",
   "metadata": {},
   "outputs": [],
   "source": [
    "plt.figure(figsize=(7,5))\n",
    "sns.heatmap(df.corr(), annot=True,cmap='CMRmap')\n",
    "plt.title('Heat Plot for Data')\n",
    "plt.show()"
   ]
  },
  {
   "cell_type": "code",
   "execution_count": null,
   "id": "3b4f1967",
   "metadata": {},
   "outputs": [],
   "source": [
    "#Defining independent and dependent variables\n",
    "features = ['SepalLengthCm','SepalWidthCm','PetalLengthCm','PetalWidthCm']\n",
    "X = df.loc[:, features].values   #defining the feature matrix\n",
    "y = df.Species"
   ]
  },
  {
   "cell_type": "markdown",
   "id": "33ea7d49",
   "metadata": {},
   "source": [
    "##  Splitting the dataset into training and test sets"
   ]
  },
  {
   "cell_type": "code",
   "execution_count": null,
   "id": "8d3513f9",
   "metadata": {},
   "outputs": [],
   "source": [
    "X_train, X_test, y_train, y_test = train_test_split(X, y, test_size = 0.33,random_state=0)\n",
    "dtree = DecisionTreeClassifier()\n",
    "dtree.fit(X_train,y_train)"
   ]
  },
  {
   "cell_type": "markdown",
   "id": "6061362e",
   "metadata": {},
   "source": [
    "## Visualizing the decision tree"
   ]
  },
  {
   "cell_type": "code",
   "execution_count": null,
   "id": "273da7e7",
   "metadata": {},
   "outputs": [],
   "source": [
    "from sklearn import tree\n",
    "feature_name =  ['sepal length(cm)','sepal width(cm)','petal length(cm)','petal width(cm)']\n",
    "class_name= df.Species.unique()\n",
    "plt.figure(figsize=(15,10))\n",
    "tree.plot_tree(dtree, filled = True, feature_names = feature_name, class_names= class_name)"
   ]
  },
  {
   "cell_type": "markdown",
   "id": "3cd9ec6a",
   "metadata": {},
   "source": [
    "## Prediction on test data"
   ]
  },
  {
   "cell_type": "code",
   "execution_count": null,
   "id": "26e8f451",
   "metadata": {},
   "outputs": [],
   "source": [
    "y_pred = dtree.predict(X_test)\n",
    "y_pred"
   ]
  },
  {
   "cell_type": "markdown",
   "id": "fe2b3fe8",
   "metadata": {},
   "source": [
    "## Checking the accuracy of the model"
   ]
  },
  {
   "cell_type": "code",
   "execution_count": null,
   "id": "f79abb1e",
   "metadata": {},
   "outputs": [],
   "source": [
    "score=accuracy_score(y_test,y_pred)\n",
    "print(\"Accuracy:\",score)"
   ]
  },
  {
   "cell_type": "code",
   "execution_count": null,
   "id": "d4ea2333",
   "metadata": {},
   "outputs": [],
   "source": []
  }
 ],
 "metadata": {
  "kernelspec": {
   "display_name": "Python 3 (ipykernel)",
   "language": "python",
   "name": "python3"
  },
  "language_info": {
   "codemirror_mode": {
    "name": "ipython",
    "version": 3
   },
   "file_extension": ".py",
   "mimetype": "text/x-python",
   "name": "python",
   "nbconvert_exporter": "python",
   "pygments_lexer": "ipython3",
   "version": "3.10.9"
  }
 },
 "nbformat": 4,
 "nbformat_minor": 5
}
